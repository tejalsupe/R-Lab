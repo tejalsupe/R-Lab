{
  "nbformat": 4,
  "nbformat_minor": 0,
  "metadata": {
    "colab": {
      "name": " R_Experiment2_writeup.ipynb",
      "provenance": [],
      "collapsed_sections": []
    },
    "kernelspec": {
      "name": "ir",
      "display_name": "R"
    }
  },
  "cells": [
    {
      "cell_type": "markdown",
      "metadata": {
        "id": "ID8ytqkhyQUI"
      },
      "source": [
        "\n",
        "**Vectors R Programming**\n",
        "\n",
        "The simplest and most common data structure in R is the vector. Vectors come in two different flavors: atomic vectors and lists. An atomic vector contains exactly one data type, whereas a list may contain multiple data types.\n",
        "\n",
        "Atomic vectors include logical, character, integer, and complex. Logical vectors can contain the values TRUE, FALSE, and NA (for 'not available').These values are generated as the result of logical 'conditions'.\n",
        "\n",
        "Complet following couple of code cell to genearate a logical vector in variable logic_vect\n"
      ]
    },
    {
      "cell_type": "code",
      "metadata": {
        "id": "vmxkWCwVaTsu",
        "colab": {
          "base_uri": "https://localhost:8080/",
          "height": 34
        },
        "outputId": "3c5d9523-d194-4ec1-9203-20357c99e93e"
      },
      "source": [
        "\r\n",
        "# Create a vector num_vect with values -100, 0.55, 45, 5466\r\n",
        "num_vect <- c(-100,0.55,45,5466)\r\n",
        "num_vect"
      ],
      "execution_count": 11,
      "outputs": [
        {
          "output_type": "display_data",
          "data": {
            "text/plain": [
              "[1] -100.00    0.55   45.00 5466.00"
            ],
            "text/latex": "\\begin{enumerate*}\n\\item -100\n\\item 0.55\n\\item 45\n\\item 5466\n\\end{enumerate*}\n",
            "text/markdown": "1. -100\n2. 0.55\n3. 45\n4. 5466\n\n\n",
            "text/html": [
              "<style>\n",
              ".list-inline {list-style: none; margin:0; padding: 0}\n",
              ".list-inline>li {display: inline-block}\n",
              ".list-inline>li:not(:last-child)::after {content: \"\\00b7\"; padding: 0 .5ex}\n",
              "</style>\n",
              "<ol class=list-inline><li>-100</li><li>0.55</li><li>45</li><li>5466</li></ol>\n"
            ]
          },
          "metadata": {
            "tags": []
          }
        }
      ]
    },
    {
      "cell_type": "code",
      "metadata": {
        "id": "eB193NZhaTxX"
      },
      "source": [
        "#Now, create a variable called logic_vect that gets the result of num_vect <= 0.55, which is read as 'num_vect is less than 0.55'.\n",
        "logic_vect <- num_vect <= 0.55"
      ],
      "execution_count": 13,
      "outputs": []
    },
    {
      "cell_type": "markdown",
      "metadata": {
        "id": "Wjk_ipkRbIEQ"
      },
      "source": [
        "If you print logic_vect. you will see that is is a logical vector with 4 values. Print logic_vect in cell below to verify it "
      ]
    },
    {
      "cell_type": "code",
      "metadata": {
        "id": "daPof3CfbYJl",
        "colab": {
          "base_uri": "https://localhost:8080/",
          "height": 34
        },
        "outputId": "e9fc1248-7442-4990-c483-35bbda20cdf4"
      },
      "source": [
        "#print logic_vect\r\n",
        "logic_vect"
      ],
      "execution_count": 14,
      "outputs": [
        {
          "output_type": "display_data",
          "data": {
            "text/plain": [
              "[1]  TRUE  TRUE FALSE FALSE"
            ],
            "text/latex": "\\begin{enumerate*}\n\\item TRUE\n\\item TRUE\n\\item FALSE\n\\item FALSE\n\\end{enumerate*}\n",
            "text/markdown": "1. TRUE\n2. TRUE\n3. FALSE\n4. FALSE\n\n\n",
            "text/html": [
              "<style>\n",
              ".list-inline {list-style: none; margin:0; padding: 0}\n",
              ".list-inline>li {display: inline-block}\n",
              ".list-inline>li:not(:last-child)::after {content: \"\\00b7\"; padding: 0 .5ex}\n",
              "</style>\n",
              "<ol class=list-inline><li>TRUE</li><li>TRUE</li><li>FALSE</li><li>FALSE</li></ol>\n"
            ]
          },
          "metadata": {
            "tags": []
          }
        }
      ]
    },
    {
      "cell_type": "code",
      "metadata": {
        "id": "ZJRGCFsRbluA",
        "colab": {
          "base_uri": "https://localhost:8080/",
          "height": 34
        },
        "outputId": "4a7c8f0b-3b14-4f4c-a6fe-9510c9e61a37"
      },
      "source": [
        "#Type num_vect >= 6 and note the output\r\n",
        "num_vect >= 6"
      ],
      "execution_count": 15,
      "outputs": [
        {
          "output_type": "display_data",
          "data": {
            "text/plain": [
              "[1] FALSE FALSE  TRUE  TRUE"
            ],
            "text/latex": "\\begin{enumerate*}\n\\item FALSE\n\\item FALSE\n\\item TRUE\n\\item TRUE\n\\end{enumerate*}\n",
            "text/markdown": "1. FALSE\n2. FALSE\n3. TRUE\n4. TRUE\n\n\n",
            "text/html": [
              "<style>\n",
              ".list-inline {list-style: none; margin:0; padding: 0}\n",
              ".list-inline>li {display: inline-block}\n",
              ".list-inline>li:not(:last-child)::after {content: \"\\00b7\"; padding: 0 .5ex}\n",
              "</style>\n",
              "<ol class=list-inline><li>FALSE</li><li>FALSE</li><li>TRUE</li><li>TRUE</li></ol>\n"
            ]
          },
          "metadata": {
            "tags": []
          }
        }
      ]
    },
    {
      "cell_type": "markdown",
      "metadata": {
        "id": "ykWXOe7kbbCH"
      },
      "source": [
        "Character vectors\n",
        "\n",
        "Character vectors are also very common in R. Double quotes are used to distinguish character objects."
      ]
    },
    {
      "cell_type": "code",
      "metadata": {
        "id": "Y5By5YrKcKLV"
      },
      "source": [
        "# Create a character vector that contains the following words: \"My\", \"name\", \"is\". \n",
        "#Remember to enclose each word in its own set of double quotes, \n",
        "#so that R knows they are character strings. Store the vector in a variable called char_vect.\n",
        "char_vect <-c(\"My\",\"name\",\"is\")"
      ],
      "execution_count": 16,
      "outputs": []
    },
    {
      "cell_type": "code",
      "metadata": {
        "id": "fCs9xH65dXqF",
        "colab": {
          "base_uri": "https://localhost:8080/",
          "height": 34
        },
        "outputId": "fa105f9e-8ad9-4c3a-a0a9-06b5380670b8"
      },
      "source": [
        "# print the char_vect\r\n",
        "char_vect"
      ],
      "execution_count": 17,
      "outputs": [
        {
          "output_type": "display_data",
          "data": {
            "text/plain": [
              "[1] \"My\"   \"name\" \"is\"  "
            ],
            "text/latex": "\\begin{enumerate*}\n\\item 'My'\n\\item 'name'\n\\item 'is'\n\\end{enumerate*}\n",
            "text/markdown": "1. 'My'\n2. 'name'\n3. 'is'\n\n\n",
            "text/html": [
              "<style>\n",
              ".list-inline {list-style: none; margin:0; padding: 0}\n",
              ".list-inline>li {display: inline-block}\n",
              ".list-inline>li:not(:last-child)::after {content: \"\\00b7\"; padding: 0 .5ex}\n",
              "</style>\n",
              "<ol class=list-inline><li>'My'</li><li>'name'</li><li>'is'</li></ol>\n"
            ]
          },
          "metadata": {
            "tags": []
          }
        }
      ]
    },
    {
      "cell_type": "code",
      "metadata": {
        "id": "wqFk1eWDdaej",
        "colab": {
          "base_uri": "https://localhost:8080/",
          "height": 34
        },
        "outputId": "fbc24a88-2d80-4711-e1b2-4aed9444364c"
      },
      "source": [
        "#use paste(char_vect, collapse=\" \")\n",
        "paste(char_vect, collapse = \" \")"
      ],
      "execution_count": 18,
      "outputs": [
        {
          "output_type": "display_data",
          "data": {
            "text/plain": [
              "[1] \"My name is\""
            ],
            "text/latex": "'My name is'",
            "text/markdown": "'My name is'",
            "text/html": [
              "'My name is'"
            ]
          },
          "metadata": {
            "tags": []
          }
        }
      ]
    },
    {
      "cell_type": "markdown",
      "metadata": {
        "id": "U6zErBTNdkjS"
      },
      "source": [
        "Explain What difference you see in above two code blocks\n",
        "\n"
      ]
    },
    {
      "cell_type": "markdown",
      "metadata": {
        "id": "FS47q4plKBcS"
      },
      "source": [
        "In the first block, char_vect have 3 different elements 'My', 'name', 'is' . But in 2nd block, the three characters are joined together to form a single continous character(Sentence) 'My name is' . and are seperated bt single space\" \" . "
      ]
    },
    {
      "cell_type": "code",
      "metadata": {
        "id": "bb8VxwW6eq4I",
        "colab": {
          "base_uri": "https://localhost:8080/",
          "height": 34
        },
        "outputId": "b34e0849-94a9-47c6-ce21-45e8c237751d"
      },
      "source": [
        "# add your name as an element to char_vect and paste complete sentence saying \"My name is <your name>\"\n",
        "char_vect <- c(char_vect, \"Tejal\")\n",
        "paste(char_vect, collapse = \" \")"
      ],
      "execution_count": 19,
      "outputs": [
        {
          "output_type": "display_data",
          "data": {
            "text/plain": [
              "[1] \"My name is Tejal\""
            ],
            "text/latex": "'My name is Tejal'",
            "text/markdown": "'My name is Tejal'",
            "text/html": [
              "'My name is Tejal'"
            ]
          },
          "metadata": {
            "tags": []
          }
        }
      ]
    },
    {
      "cell_type": "code",
      "metadata": {
        "id": "2On4I2KFffCo",
        "colab": {
          "base_uri": "https://localhost:8080/",
          "height": 34
        },
        "outputId": "5421b568-e635-4bcf-cd98-e58d56149a01"
      },
      "source": [
        "#Execute this code block\n",
        "paste(\"Hello\",\"World!\",collapse=\" \")"
      ],
      "execution_count": 20,
      "outputs": [
        {
          "output_type": "display_data",
          "data": {
            "text/plain": [
              "[1] \"Hello World!\""
            ],
            "text/latex": "'Hello World!'",
            "text/markdown": "'Hello World!'",
            "text/html": [
              "'Hello World!'"
            ]
          },
          "metadata": {
            "tags": []
          }
        }
      ]
    },
    {
      "cell_type": "markdown",
      "metadata": {
        "id": "Ix0RGNhYfk5M"
      },
      "source": [
        "Explain output of code block above."
      ]
    },
    {
      "cell_type": "markdown",
      "metadata": {
        "id": "KcXQNSH_LdK8"
      },
      "source": [
        "paste() prints the strings are printed together with a single space."
      ]
    },
    {
      "cell_type": "code",
      "metadata": {
        "id": "UG8NGPx4fq01",
        "colab": {
          "base_uri": "https://localhost:8080/",
          "height": 34
        },
        "outputId": "de936f7f-9842-4934-eb67-03c2d25db9f0"
      },
      "source": [
        "#Execute this \n",
        "paste(1:3, c(\"X\", \"Y\", \"Z\"), sep = \":\")"
      ],
      "execution_count": 21,
      "outputs": [
        {
          "output_type": "display_data",
          "data": {
            "text/plain": [
              "[1] \"1:X\" \"2:Y\" \"3:Z\""
            ],
            "text/latex": "\\begin{enumerate*}\n\\item '1:X'\n\\item '2:Y'\n\\item '3:Z'\n\\end{enumerate*}\n",
            "text/markdown": "1. '1:X'\n2. '2:Y'\n3. '3:Z'\n\n\n",
            "text/html": [
              "<style>\n",
              ".list-inline {list-style: none; margin:0; padding: 0}\n",
              ".list-inline>li {display: inline-block}\n",
              ".list-inline>li:not(:last-child)::after {content: \"\\00b7\"; padding: 0 .5ex}\n",
              "</style>\n",
              "<ol class=list-inline><li>'1:X'</li><li>'2:Y'</li><li>'3:Z'</li></ol>\n"
            ]
          },
          "metadata": {
            "tags": []
          }
        }
      ]
    },
    {
      "cell_type": "markdown",
      "metadata": {
        "id": "WZburobtgHPL"
      },
      "source": [
        "Explain output of above code block"
      ]
    },
    {
      "cell_type": "markdown",
      "metadata": {
        "id": "udCz08S_Or3_"
      },
      "source": [
        "Both the vectors 1:3(1 , 2, 3) and (\"X\" , \"Y\" ,\"Z\") are of size three. When paste() is used it prints elements from both the vectors together seperated by a ':' . "
      ]
    },
    {
      "cell_type": "code",
      "metadata": {
        "id": "dfigEt5CgidD",
        "colab": {
          "base_uri": "https://localhost:8080/",
          "height": 34
        },
        "outputId": "761eeab3-4f16-4745-fdb5-c21f2aeb6050"
      },
      "source": [
        "#Executes this LETTERS is \n",
        "paste(LETTERS, 1:10, sep = \"-\")"
      ],
      "execution_count": 22,
      "outputs": [
        {
          "output_type": "display_data",
          "data": {
            "text/plain": [
              " [1] \"A-1\"  \"B-2\"  \"C-3\"  \"D-4\"  \"E-5\"  \"F-6\"  \"G-7\"  \"H-8\"  \"I-9\"  \"J-10\"\n",
              "[11] \"K-1\"  \"L-2\"  \"M-3\"  \"N-4\"  \"O-5\"  \"P-6\"  \"Q-7\"  \"R-8\"  \"S-9\"  \"T-10\"\n",
              "[21] \"U-1\"  \"V-2\"  \"W-3\"  \"X-4\"  \"Y-5\"  \"Z-6\" "
            ],
            "text/latex": "\\begin{enumerate*}\n\\item 'A-1'\n\\item 'B-2'\n\\item 'C-3'\n\\item 'D-4'\n\\item 'E-5'\n\\item 'F-6'\n\\item 'G-7'\n\\item 'H-8'\n\\item 'I-9'\n\\item 'J-10'\n\\item 'K-1'\n\\item 'L-2'\n\\item 'M-3'\n\\item 'N-4'\n\\item 'O-5'\n\\item 'P-6'\n\\item 'Q-7'\n\\item 'R-8'\n\\item 'S-9'\n\\item 'T-10'\n\\item 'U-1'\n\\item 'V-2'\n\\item 'W-3'\n\\item 'X-4'\n\\item 'Y-5'\n\\item 'Z-6'\n\\end{enumerate*}\n",
            "text/markdown": "1. 'A-1'\n2. 'B-2'\n3. 'C-3'\n4. 'D-4'\n5. 'E-5'\n6. 'F-6'\n7. 'G-7'\n8. 'H-8'\n9. 'I-9'\n10. 'J-10'\n11. 'K-1'\n12. 'L-2'\n13. 'M-3'\n14. 'N-4'\n15. 'O-5'\n16. 'P-6'\n17. 'Q-7'\n18. 'R-8'\n19. 'S-9'\n20. 'T-10'\n21. 'U-1'\n22. 'V-2'\n23. 'W-3'\n24. 'X-4'\n25. 'Y-5'\n26. 'Z-6'\n\n\n",
            "text/html": [
              "<style>\n",
              ".list-inline {list-style: none; margin:0; padding: 0}\n",
              ".list-inline>li {display: inline-block}\n",
              ".list-inline>li:not(:last-child)::after {content: \"\\00b7\"; padding: 0 .5ex}\n",
              "</style>\n",
              "<ol class=list-inline><li>'A-1'</li><li>'B-2'</li><li>'C-3'</li><li>'D-4'</li><li>'E-5'</li><li>'F-6'</li><li>'G-7'</li><li>'H-8'</li><li>'I-9'</li><li>'J-10'</li><li>'K-1'</li><li>'L-2'</li><li>'M-3'</li><li>'N-4'</li><li>'O-5'</li><li>'P-6'</li><li>'Q-7'</li><li>'R-8'</li><li>'S-9'</li><li>'T-10'</li><li>'U-1'</li><li>'V-2'</li><li>'W-3'</li><li>'X-4'</li><li>'Y-5'</li><li>'Z-6'</li></ol>\n"
            ]
          },
          "metadata": {
            "tags": []
          }
        }
      ]
    },
    {
      "cell_type": "markdown",
      "metadata": {
        "id": "zi6nXmiZp1Li"
      },
      "source": [
        "Explain output of above code block"
      ]
    },
    {
      "cell_type": "markdown",
      "metadata": {
        "id": "FRP_hhqNQEcz"
      },
      "source": [
        "Here, since the letters are more than 10, after 'J', the the elements from second vector again starts from '1' it continuous util all the letters are printed i.e(A-Z). "
      ]
    },
    {
      "cell_type": "markdown",
      "metadata": {
        "id": "oaWD-k-4qNOV"
      },
      "source": [
        "**Write R code to Solve Following**\n",
        "1.   To begin with create a vecor **a** of 20 random values from Std Normal Variable.\n",
        "2.   Creat another vector **b** of 20 NA values. Also create vector x\n",
        "3.   Sample 20 values from above two vectors. \n",
        "4.   Subset  10th to 15th element from x to generate sample y\n",
        "5.   Count NAs in vector x and y         "
      ]
    },
    {
      "cell_type": "code",
      "metadata": {
        "colab": {
          "base_uri": "https://localhost:8080/",
          "height": 50
        },
        "id": "aq-07MGbQmCg",
        "outputId": "1bacdc7c-9f7e-4700-a1a5-da9b2c6a31b4"
      },
      "source": [
        " a <- rnorm(20)\r\n",
        " a"
      ],
      "execution_count": 23,
      "outputs": [
        {
          "output_type": "display_data",
          "data": {
            "text/plain": [
              " [1] -1.05632946  0.20246097  0.57317868  0.24243389  0.48968907 -0.48791105\n",
              " [7]  0.33963914 -0.41597861 -0.60269533  1.34387922  2.27287735  0.39574974\n",
              "[13]  0.22696601 -0.06112252 -0.67699127  0.50189523 -1.08300225  1.67359594\n",
              "[19]  1.17814161  0.39291713"
            ],
            "text/latex": "\\begin{enumerate*}\n\\item -1.05632946468222\n\\item 0.202460973603486\n\\item 0.573178677680816\n\\item 0.242433885732726\n\\item 0.489689073604452\n\\item -0.487911049211507\n\\item 0.339639141080356\n\\item -0.415978610473661\n\\item -0.602695332654794\n\\item 1.34387921743207\n\\item 2.27287735132924\n\\item 0.395749739495931\n\\item 0.22696601127338\n\\item -0.0611225195594154\n\\item -0.676991268185707\n\\item 0.50189522659035\n\\item -1.08300225069822\n\\item 1.67359594253781\n\\item 1.17814161274349\n\\item 0.392917133634191\n\\end{enumerate*}\n",
            "text/markdown": "1. -1.05632946468222\n2. 0.202460973603486\n3. 0.573178677680816\n4. 0.242433885732726\n5. 0.489689073604452\n6. -0.487911049211507\n7. 0.339639141080356\n8. -0.415978610473661\n9. -0.602695332654794\n10. 1.34387921743207\n11. 2.27287735132924\n12. 0.395749739495931\n13. 0.22696601127338\n14. -0.0611225195594154\n15. -0.676991268185707\n16. 0.50189522659035\n17. -1.08300225069822\n18. 1.67359594253781\n19. 1.17814161274349\n20. 0.392917133634191\n\n\n",
            "text/html": [
              "<style>\n",
              ".list-inline {list-style: none; margin:0; padding: 0}\n",
              ".list-inline>li {display: inline-block}\n",
              ".list-inline>li:not(:last-child)::after {content: \"\\00b7\"; padding: 0 .5ex}\n",
              "</style>\n",
              "<ol class=list-inline><li>-1.05632946468222</li><li>0.202460973603486</li><li>0.573178677680816</li><li>0.242433885732726</li><li>0.489689073604452</li><li>-0.487911049211507</li><li>0.339639141080356</li><li>-0.415978610473661</li><li>-0.602695332654794</li><li>1.34387921743207</li><li>2.27287735132924</li><li>0.395749739495931</li><li>0.22696601127338</li><li>-0.0611225195594154</li><li>-0.676991268185707</li><li>0.50189522659035</li><li>-1.08300225069822</li><li>1.67359594253781</li><li>1.17814161274349</li><li>0.392917133634191</li></ol>\n"
            ]
          },
          "metadata": {
            "tags": []
          }
        }
      ]
    },
    {
      "cell_type": "code",
      "metadata": {
        "colab": {
          "base_uri": "https://localhost:8080/",
          "height": 34
        },
        "id": "8feBaQCdQjL7",
        "outputId": "20004264-5ecc-4af1-a505-f7f093393a6a"
      },
      "source": [
        "b <- rep(NA , 20)\r\n",
        "b"
      ],
      "execution_count": 24,
      "outputs": [
        {
          "output_type": "display_data",
          "data": {
            "text/plain": [
              " [1] NA NA NA NA NA NA NA NA NA NA NA NA NA NA NA NA NA NA NA NA"
            ],
            "text/latex": "\\begin{enumerate*}\n\\item <NA>\n\\item <NA>\n\\item <NA>\n\\item <NA>\n\\item <NA>\n\\item <NA>\n\\item <NA>\n\\item <NA>\n\\item <NA>\n\\item <NA>\n\\item <NA>\n\\item <NA>\n\\item <NA>\n\\item <NA>\n\\item <NA>\n\\item <NA>\n\\item <NA>\n\\item <NA>\n\\item <NA>\n\\item <NA>\n\\end{enumerate*}\n",
            "text/markdown": "1. &lt;NA&gt;\n2. &lt;NA&gt;\n3. &lt;NA&gt;\n4. &lt;NA&gt;\n5. &lt;NA&gt;\n6. &lt;NA&gt;\n7. &lt;NA&gt;\n8. &lt;NA&gt;\n9. &lt;NA&gt;\n10. &lt;NA&gt;\n11. &lt;NA&gt;\n12. &lt;NA&gt;\n13. &lt;NA&gt;\n14. &lt;NA&gt;\n15. &lt;NA&gt;\n16. &lt;NA&gt;\n17. &lt;NA&gt;\n18. &lt;NA&gt;\n19. &lt;NA&gt;\n20. &lt;NA&gt;\n\n\n",
            "text/html": [
              "<style>\n",
              ".list-inline {list-style: none; margin:0; padding: 0}\n",
              ".list-inline>li {display: inline-block}\n",
              ".list-inline>li:not(:last-child)::after {content: \"\\00b7\"; padding: 0 .5ex}\n",
              "</style>\n",
              "<ol class=list-inline><li>&lt;NA&gt;</li><li>&lt;NA&gt;</li><li>&lt;NA&gt;</li><li>&lt;NA&gt;</li><li>&lt;NA&gt;</li><li>&lt;NA&gt;</li><li>&lt;NA&gt;</li><li>&lt;NA&gt;</li><li>&lt;NA&gt;</li><li>&lt;NA&gt;</li><li>&lt;NA&gt;</li><li>&lt;NA&gt;</li><li>&lt;NA&gt;</li><li>&lt;NA&gt;</li><li>&lt;NA&gt;</li><li>&lt;NA&gt;</li><li>&lt;NA&gt;</li><li>&lt;NA&gt;</li><li>&lt;NA&gt;</li><li>&lt;NA&gt;</li></ol>\n"
            ]
          },
          "metadata": {
            "tags": []
          }
        }
      ]
    },
    {
      "cell_type": "code",
      "metadata": {
        "id": "gsI-3WzdRBpP"
      },
      "source": [
        "x<-c(a , b)"
      ],
      "execution_count": 25,
      "outputs": []
    },
    {
      "cell_type": "code",
      "metadata": {
        "colab": {
          "base_uri": "https://localhost:8080/",
          "height": 50
        },
        "id": "Bv0Epb0gRGw-",
        "outputId": "1bc73df8-f07c-4e3c-dcae-8d5aad04ddf6"
      },
      "source": [
        "x<- sample(x, 20)\r\n",
        "x"
      ],
      "execution_count": 27,
      "outputs": [
        {
          "output_type": "display_data",
          "data": {
            "text/plain": [
              " [1]  0.5731787  0.3929171         NA         NA -0.6769913  0.2269660\n",
              " [7]         NA  1.6735959  2.2728774         NA         NA         NA\n",
              "[13]  0.3957497         NA         NA -1.0563295  1.1781416 -1.0830023\n",
              "[19]         NA         NA"
            ],
            "text/latex": "\\begin{enumerate*}\n\\item 0.573178677680816\n\\item 0.392917133634191\n\\item <NA>\n\\item <NA>\n\\item -0.676991268185707\n\\item 0.22696601127338\n\\item <NA>\n\\item 1.67359594253781\n\\item 2.27287735132924\n\\item <NA>\n\\item <NA>\n\\item <NA>\n\\item 0.395749739495931\n\\item <NA>\n\\item <NA>\n\\item -1.05632946468222\n\\item 1.17814161274349\n\\item -1.08300225069822\n\\item <NA>\n\\item <NA>\n\\end{enumerate*}\n",
            "text/markdown": "1. 0.573178677680816\n2. 0.392917133634191\n3. &lt;NA&gt;\n4. &lt;NA&gt;\n5. -0.676991268185707\n6. 0.22696601127338\n7. &lt;NA&gt;\n8. 1.67359594253781\n9. 2.27287735132924\n10. &lt;NA&gt;\n11. &lt;NA&gt;\n12. &lt;NA&gt;\n13. 0.395749739495931\n14. &lt;NA&gt;\n15. &lt;NA&gt;\n16. -1.05632946468222\n17. 1.17814161274349\n18. -1.08300225069822\n19. &lt;NA&gt;\n20. &lt;NA&gt;\n\n\n",
            "text/html": [
              "<style>\n",
              ".list-inline {list-style: none; margin:0; padding: 0}\n",
              ".list-inline>li {display: inline-block}\n",
              ".list-inline>li:not(:last-child)::after {content: \"\\00b7\"; padding: 0 .5ex}\n",
              "</style>\n",
              "<ol class=list-inline><li>0.573178677680816</li><li>0.392917133634191</li><li>&lt;NA&gt;</li><li>&lt;NA&gt;</li><li>-0.676991268185707</li><li>0.22696601127338</li><li>&lt;NA&gt;</li><li>1.67359594253781</li><li>2.27287735132924</li><li>&lt;NA&gt;</li><li>&lt;NA&gt;</li><li>&lt;NA&gt;</li><li>0.395749739495931</li><li>&lt;NA&gt;</li><li>&lt;NA&gt;</li><li>-1.05632946468222</li><li>1.17814161274349</li><li>-1.08300225069822</li><li>&lt;NA&gt;</li><li>&lt;NA&gt;</li></ol>\n"
            ]
          },
          "metadata": {
            "tags": []
          }
        }
      ]
    },
    {
      "cell_type": "code",
      "metadata": {
        "colab": {
          "base_uri": "https://localhost:8080/",
          "height": 34
        },
        "id": "RqlkhHQ1RSU0",
        "outputId": "063efe36-896d-4e8c-b4c9-14d84280fd36"
      },
      "source": [
        "y<- x[10:15]\r\n",
        "y"
      ],
      "execution_count": 29,
      "outputs": [
        {
          "output_type": "display_data",
          "data": {
            "text/plain": [
              "[1]        NA        NA        NA 0.3957497        NA        NA"
            ],
            "text/latex": "\\begin{enumerate*}\n\\item <NA>\n\\item <NA>\n\\item <NA>\n\\item 0.395749739495931\n\\item <NA>\n\\item <NA>\n\\end{enumerate*}\n",
            "text/markdown": "1. &lt;NA&gt;\n2. &lt;NA&gt;\n3. &lt;NA&gt;\n4. 0.395749739495931\n5. &lt;NA&gt;\n6. &lt;NA&gt;\n\n\n",
            "text/html": [
              "<style>\n",
              ".list-inline {list-style: none; margin:0; padding: 0}\n",
              ".list-inline>li {display: inline-block}\n",
              ".list-inline>li:not(:last-child)::after {content: \"\\00b7\"; padding: 0 .5ex}\n",
              "</style>\n",
              "<ol class=list-inline><li>&lt;NA&gt;</li><li>&lt;NA&gt;</li><li>&lt;NA&gt;</li><li>0.395749739495931</li><li>&lt;NA&gt;</li><li>&lt;NA&gt;</li></ol>\n"
            ]
          },
          "metadata": {
            "tags": []
          }
        }
      ]
    },
    {
      "cell_type": "code",
      "metadata": {
        "colab": {
          "base_uri": "https://localhost:8080/",
          "height": 34
        },
        "id": "PsSAAABnRbkS",
        "outputId": "0a137cf6-3590-45a4-a59f-ce4ffbbcfc3b"
      },
      "source": [
        "sum(is.na(x))"
      ],
      "execution_count": 30,
      "outputs": [
        {
          "output_type": "display_data",
          "data": {
            "text/plain": [
              "[1] 10"
            ],
            "text/latex": "10",
            "text/markdown": "10",
            "text/html": [
              "10"
            ]
          },
          "metadata": {
            "tags": []
          }
        }
      ]
    },
    {
      "cell_type": "code",
      "metadata": {
        "colab": {
          "base_uri": "https://localhost:8080/",
          "height": 34
        },
        "id": "fJAlqtatRogI",
        "outputId": "83f9608a-9e7c-407a-b638-347f7cc695da"
      },
      "source": [
        "sum(is.na(y))"
      ],
      "execution_count": 32,
      "outputs": [
        {
          "output_type": "display_data",
          "data": {
            "text/plain": [
              "[1] 5"
            ],
            "text/latex": "5",
            "text/markdown": "5",
            "text/html": [
              "5"
            ]
          },
          "metadata": {
            "tags": []
          }
        }
      ]
    }
  ]
}